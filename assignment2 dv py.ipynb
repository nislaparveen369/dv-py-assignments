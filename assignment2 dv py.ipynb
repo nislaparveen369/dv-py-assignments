{
 "cells": [
  {
   "cell_type": "code",
   "execution_count": null,
   "id": "aa4e1e78",
   "metadata": {},
   "outputs": [],
   "source": [
    " Q:\n",
    "Create a dataframe with 10 rows on random numbers and 4 columns, (columns labelled as a,b,c,d) and plot a bar chart.\n"
   ]
  },
  {
   "cell_type": "code",
   "execution_count": 1,
   "id": "81a6ac52",
   "metadata": {},
   "outputs": [],
   "source": [
    "import matplotlib.pyplot as plt\n",
    "import numpy as np\n",
    "import pandas as pd\n",
    "%matplotlib inline\n",
    "import seaborn as sns\n",
    "from numpy.random import randn,randint,uniform,sample"
   ]
  },
  {
   "cell_type": "code",
   "execution_count": 23,
   "id": "5498f546",
   "metadata": {},
   "outputs": [
    {
     "data": {
      "image/png": "[encoded data removed]",
      "text/plain": [
       "<Figure size 432x288 with 1 Axes>"
      ]
     },
     "metadata": {
      "needs_background": "light"
     },
     "output_type": "display_data"
    }
   ],
   "source": [
    "x=[0,0.2,0.4,0.6,0.8,0.10,1.2,1.4,1.6,1.8]\n",
    "y=[0,2,4,6,8,10,12,14,16,18]\n",
    "\n",
    "x1=[1,3,5,7,9,11,13,15,17,19]\n",
    "y1=[5.5,1,0.7,0.5,6.8,9.6,11.7,2.75,3.45,4.5]\n",
    "\n",
    "x2=[12,14,16,18,20,22,24,26,28,30]\n",
    "y2=[1.2,1.4,1.6,1.8,2.0,2.2,2.4,2.6,2.8,3.0]\n",
    "\n",
    "x3=[11,13,15,17,19,21,23,25,27,29]\n",
    "y3=[1.1,1.3,1.5,1.7,1.9,2.1,2.3,2.5,2.7,2.9]\n",
    "plt.bar(x,y,label='a')\n",
    "plt.bar(x1,y1,label='b')\n",
    "plt.bar(x2,y2,label='c')\n",
    "plt.bar(x3,y3,label='d')\n",
    "plt.title(\"dataframe\")\n",
    "plt.xlabel('x-axis')\n",
    "plt.ylabel('y-axis')\n",
    "plt.legend()\n",
    "plt.show()\n"
   ]
  },
  {
   "cell_type": "code",
   "execution_count": null,
   "id": "46510e52",
   "metadata": {},
   "outputs": [],
   "source": []
  },
  {
   "cell_type": "code",
   "execution_count": null,
   "id": "939126b2",
   "metadata": {},
   "outputs": [],
   "source": []
  },
  {
   "cell_type": "code",
   "execution_count": null,
   "id": "bffecea5",
   "metadata": {},
   "outputs": [],
   "source": []
  },
  {
   "cell_type": "code",
   "execution_count": null,
   "id": "306d7c01",
   "metadata": {},
   "outputs": [],
   "source": []
  },
  {
   "cell_type": "code",
   "execution_count": null,
   "id": "15e9c281",
   "metadata": {},
   "outputs": [],
   "source": []
  },
  {
   "cell_type": "code",
   "execution_count": null,
   "id": "abe233cf",
   "metadata": {},
   "outputs": [],
   "source": []
  }
 ],
 "metadata": {
  "kernelspec": {
   "display_name": "Python 3",
   "language": "python",
   "name": "python3"
  },
  "language_info": {
   "codemirror_mode": {
    "name": "ipython",
    "version": 3
   },
   "file_extension": ".py",
   "mimetype": "text/x-python",
   "name": "python",
   "nbconvert_exporter": "python",
   "pygments_lexer": "ipython3",
   "version": "3.8.8"
  }
 },
 "nbformat": 4,
 "nbformat_minor": 5
}
